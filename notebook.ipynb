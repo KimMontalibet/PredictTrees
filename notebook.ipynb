{
 "cells": [
  {
   "cell_type": "code",
   "execution_count": 1,
   "metadata": {
    "collapsed": false
   },
   "outputs": [],
   "source": [
    "from __future__ import division\n",
    "import pandas as pd\n",
    "import numpy as np\n",
    "import matplotlib.pyplot as plt\n",
    "import seaborn as sns\n",
    "from sklearn import metrics\n",
    "import datetime as dt \n",
    "from sklearn.model_selection import train_test_split\n",
    "from sklearn.ensemble import GradientBoostingRegressor\n",
    "from sklearn.model_selection import RandomizedSearchCV\n",
    "import time \n",
    "%matplotlib inline\n",
    "from sklearn.preprocessing import Imputer\n",
    "from sklearn.linear_model import LinearRegression\n",
    "from sklearn.metrics import mean_squared_error\n",
    "from math import sqrt\n",
    "import unicodedata\n",
    "import string\n",
    "from sklearn.svm import SVR"
   ]
  },
  {
   "cell_type": "markdown",
   "metadata": {},
   "source": [
    "# First explorations "
   ]
  },
  {
   "cell_type": "code",
   "execution_count": 78,
   "metadata": {
    "collapsed": false
   },
   "outputs": [],
   "source": [
    "path = 'les-arbres.csv'\n",
    "df = pd.read_csv(path, sep = ';')"
   ]
  },
  {
   "cell_type": "code",
   "execution_count": 3,
   "metadata": {
    "collapsed": false
   },
   "outputs": [
    {
     "name": "stdout",
     "output_type": "stream",
     "text": [
      "(222170, 20)\n"
     ]
    },
    {
     "data": {
      "text/html": [
       "<div>\n",
       "<table border=\"1\" class=\"dataframe\">\n",
       "  <thead>\n",
       "    <tr style=\"text-align: right;\">\n",
       "      <th></th>\n",
       "      <th>IDBASE</th>\n",
       "      <th>TYPEEMPLACEMENT</th>\n",
       "      <th>DOMANIALITE</th>\n",
       "      <th>ARRONDISSEMENT</th>\n",
       "      <th>COMPLEMENTADRESSE</th>\n",
       "      <th>NUMERO</th>\n",
       "      <th>LIEU / ADRESSE</th>\n",
       "      <th>IDEMPLACEMENT</th>\n",
       "      <th>CIRCONFERENCEENCM</th>\n",
       "      <th>HAUTEUR (m)</th>\n",
       "      <th>STADEDEVELOPPEMENT</th>\n",
       "      <th>PEPINIERE</th>\n",
       "      <th>ESPECE</th>\n",
       "      <th>VARIETEOUCULTIVAR</th>\n",
       "      <th>GENRE</th>\n",
       "      <th>DATEPLANTATION</th>\n",
       "      <th>REMARQUABLE</th>\n",
       "      <th>LIBELLEFRANCAIS</th>\n",
       "      <th>OBJECTID</th>\n",
       "      <th>geo_point_2d</th>\n",
       "    </tr>\n",
       "  </thead>\n",
       "  <tbody>\n",
       "    <tr>\n",
       "      <th>0</th>\n",
       "      <td>296880.0</td>\n",
       "      <td>Arbre</td>\n",
       "      <td>Alignement</td>\n",
       "      <td>PARIS 8E ARRDT</td>\n",
       "      <td>face43</td>\n",
       "      <td>NaN</td>\n",
       "      <td>AVENUE FRANKLIN D ROOSEVELT</td>\n",
       "      <td>000404022</td>\n",
       "      <td>130.0</td>\n",
       "      <td>12.0</td>\n",
       "      <td>A</td>\n",
       "      <td>Inconnue</td>\n",
       "      <td>hippocastanum</td>\n",
       "      <td>NaN</td>\n",
       "      <td>Aesculus</td>\n",
       "      <td>1700-01-01T01:02:49+00:53</td>\n",
       "      <td>0.0</td>\n",
       "      <td>Marronnier</td>\n",
       "      <td>97992</td>\n",
       "      <td>48.8680417817, 2.31038073393</td>\n",
       "    </tr>\n",
       "    <tr>\n",
       "      <th>1</th>\n",
       "      <td>2000397.0</td>\n",
       "      <td>Arbre</td>\n",
       "      <td>Alignement</td>\n",
       "      <td>BOIS DE BOULOGNE</td>\n",
       "      <td>lampadaire</td>\n",
       "      <td>NaN</td>\n",
       "      <td>BOULEVARD DU COMMANDANT CHARCOT</td>\n",
       "      <td>000202038</td>\n",
       "      <td>185.0</td>\n",
       "      <td>16.0</td>\n",
       "      <td>A</td>\n",
       "      <td>NaN</td>\n",
       "      <td>hippocastanum</td>\n",
       "      <td>NaN</td>\n",
       "      <td>Aesculus</td>\n",
       "      <td>1700-01-01T01:02:49+00:53</td>\n",
       "      <td>0.0</td>\n",
       "      <td>Marronnier</td>\n",
       "      <td>98001</td>\n",
       "      <td>48.8762405044, 2.25636279639</td>\n",
       "    </tr>\n",
       "    <tr>\n",
       "      <th>2</th>\n",
       "      <td>2001631.0</td>\n",
       "      <td>Arbre</td>\n",
       "      <td>Alignement</td>\n",
       "      <td>PARIS 8E ARRDT</td>\n",
       "      <td>NaN</td>\n",
       "      <td>NaN</td>\n",
       "      <td>AVENUE DUTUIT</td>\n",
       "      <td>000406004</td>\n",
       "      <td>158.0</td>\n",
       "      <td>14.0</td>\n",
       "      <td>A</td>\n",
       "      <td>Inconnue</td>\n",
       "      <td>n. sp.</td>\n",
       "      <td>NaN</td>\n",
       "      <td>Aesculus</td>\n",
       "      <td>2000-01-01T02:00:00+01:00</td>\n",
       "      <td>0.0</td>\n",
       "      <td>Marronnier</td>\n",
       "      <td>98004</td>\n",
       "      <td>48.8665918946, 2.31599668868</td>\n",
       "    </tr>\n",
       "    <tr>\n",
       "      <th>3</th>\n",
       "      <td>2004952.0</td>\n",
       "      <td>Arbre</td>\n",
       "      <td>Alignement</td>\n",
       "      <td>BOIS DE VINCENNES</td>\n",
       "      <td>NaN</td>\n",
       "      <td>NaN</td>\n",
       "      <td>ROUTE DE LA FALUERE</td>\n",
       "      <td>000301048</td>\n",
       "      <td>0.0</td>\n",
       "      <td>0.0</td>\n",
       "      <td>NaN</td>\n",
       "      <td>Inconnue</td>\n",
       "      <td>platyphyllos</td>\n",
       "      <td>NaN</td>\n",
       "      <td>Tilia</td>\n",
       "      <td>1700-01-01T01:02:49+00:53</td>\n",
       "      <td>0.0</td>\n",
       "      <td>Tilleul</td>\n",
       "      <td>98010</td>\n",
       "      <td>48.828996718, 2.43484400735</td>\n",
       "    </tr>\n",
       "    <tr>\n",
       "      <th>4</th>\n",
       "      <td>2006082.0</td>\n",
       "      <td>Arbre</td>\n",
       "      <td>Alignement</td>\n",
       "      <td>BOIS DE VINCENNES</td>\n",
       "      <td>NaN</td>\n",
       "      <td>NaN</td>\n",
       "      <td>AVENUE DES TRIBUNES</td>\n",
       "      <td>000101050</td>\n",
       "      <td>0.0</td>\n",
       "      <td>0.0</td>\n",
       "      <td>NaN</td>\n",
       "      <td>Inconnue</td>\n",
       "      <td>x hispanica</td>\n",
       "      <td>NaN</td>\n",
       "      <td>Platanus</td>\n",
       "      <td>1700-01-01T01:02:49+00:53</td>\n",
       "      <td>0.0</td>\n",
       "      <td>Platane</td>\n",
       "      <td>98011</td>\n",
       "      <td>48.8287156923, 2.42700567862</td>\n",
       "    </tr>\n",
       "  </tbody>\n",
       "</table>\n",
       "</div>"
      ],
      "text/plain": [
       "      IDBASE TYPEEMPLACEMENT DOMANIALITE     ARRONDISSEMENT COMPLEMENTADRESSE  \\\n",
       "0   296880.0           Arbre  Alignement     PARIS 8E ARRDT            face43   \n",
       "1  2000397.0           Arbre  Alignement   BOIS DE BOULOGNE        lampadaire   \n",
       "2  2001631.0           Arbre  Alignement     PARIS 8E ARRDT               NaN   \n",
       "3  2004952.0           Arbre  Alignement  BOIS DE VINCENNES               NaN   \n",
       "4  2006082.0           Arbre  Alignement  BOIS DE VINCENNES               NaN   \n",
       "\n",
       "   NUMERO                   LIEU / ADRESSE IDEMPLACEMENT  CIRCONFERENCEENCM  \\\n",
       "0     NaN      AVENUE FRANKLIN D ROOSEVELT     000404022              130.0   \n",
       "1     NaN  BOULEVARD DU COMMANDANT CHARCOT     000202038              185.0   \n",
       "2     NaN                    AVENUE DUTUIT     000406004              158.0   \n",
       "3     NaN              ROUTE DE LA FALUERE     000301048                0.0   \n",
       "4     NaN              AVENUE DES TRIBUNES     000101050                0.0   \n",
       "\n",
       "   HAUTEUR (m) STADEDEVELOPPEMENT PEPINIERE         ESPECE VARIETEOUCULTIVAR  \\\n",
       "0         12.0                  A  Inconnue  hippocastanum               NaN   \n",
       "1         16.0                  A       NaN  hippocastanum               NaN   \n",
       "2         14.0                  A  Inconnue         n. sp.               NaN   \n",
       "3          0.0                NaN  Inconnue   platyphyllos               NaN   \n",
       "4          0.0                NaN  Inconnue    x hispanica               NaN   \n",
       "\n",
       "      GENRE             DATEPLANTATION  REMARQUABLE LIBELLEFRANCAIS  OBJECTID  \\\n",
       "0  Aesculus  1700-01-01T01:02:49+00:53          0.0      Marronnier     97992   \n",
       "1  Aesculus  1700-01-01T01:02:49+00:53          0.0      Marronnier     98001   \n",
       "2  Aesculus  2000-01-01T02:00:00+01:00          0.0      Marronnier     98004   \n",
       "3     Tilia  1700-01-01T01:02:49+00:53          0.0         Tilleul     98010   \n",
       "4  Platanus  1700-01-01T01:02:49+00:53          0.0         Platane     98011   \n",
       "\n",
       "                   geo_point_2d  \n",
       "0  48.8680417817, 2.31038073393  \n",
       "1  48.8762405044, 2.25636279639  \n",
       "2  48.8665918946, 2.31599668868  \n",
       "3   48.828996718, 2.43484400735  \n",
       "4  48.8287156923, 2.42700567862  "
      ]
     },
     "execution_count": 3,
     "metadata": {},
     "output_type": "execute_result"
    }
   ],
   "source": [
    "print(df.shape)\n",
    "df.head()"
   ]
  },
  {
   "cell_type": "code",
   "execution_count": 4,
   "metadata": {
    "collapsed": false
   },
   "outputs": [
    {
     "data": {
      "text/html": [
       "<div>\n",
       "<table border=\"1\" class=\"dataframe\">\n",
       "  <thead>\n",
       "    <tr style=\"text-align: right;\">\n",
       "      <th></th>\n",
       "      <th>IDBASE</th>\n",
       "      <th>NUMERO</th>\n",
       "      <th>CIRCONFERENCEENCM</th>\n",
       "      <th>HAUTEUR (m)</th>\n",
       "      <th>REMARQUABLE</th>\n",
       "      <th>OBJECTID</th>\n",
       "    </tr>\n",
       "  </thead>\n",
       "  <tbody>\n",
       "    <tr>\n",
       "      <th>count</th>\n",
       "      <td>2.221700e+05</td>\n",
       "      <td>0.0</td>\n",
       "      <td>2.221700e+05</td>\n",
       "      <td>222170.000000</td>\n",
       "      <td>134317.000000</td>\n",
       "      <td>222170.000000</td>\n",
       "    </tr>\n",
       "    <tr>\n",
       "      <th>mean</th>\n",
       "      <td>3.796738e+05</td>\n",
       "      <td>NaN</td>\n",
       "      <td>4.070073e+03</td>\n",
       "      <td>12.318801</td>\n",
       "      <td>0.001422</td>\n",
       "      <td>111444.457591</td>\n",
       "    </tr>\n",
       "    <tr>\n",
       "      <th>std</th>\n",
       "      <td>5.389186e+05</td>\n",
       "      <td>NaN</td>\n",
       "      <td>1.220608e+06</td>\n",
       "      <td>1870.923546</td>\n",
       "      <td>0.037683</td>\n",
       "      <td>64348.602305</td>\n",
       "    </tr>\n",
       "    <tr>\n",
       "      <th>min</th>\n",
       "      <td>9.987400e+04</td>\n",
       "      <td>NaN</td>\n",
       "      <td>0.000000e+00</td>\n",
       "      <td>0.000000</td>\n",
       "      <td>0.000000</td>\n",
       "      <td>1.000000</td>\n",
       "    </tr>\n",
       "    <tr>\n",
       "      <th>25%</th>\n",
       "      <td>1.580362e+05</td>\n",
       "      <td>NaN</td>\n",
       "      <td>2.500000e+01</td>\n",
       "      <td>3.000000</td>\n",
       "      <td>0.000000</td>\n",
       "      <td>55727.250000</td>\n",
       "    </tr>\n",
       "    <tr>\n",
       "      <th>50%</th>\n",
       "      <td>2.141475e+05</td>\n",
       "      <td>NaN</td>\n",
       "      <td>7.000000e+01</td>\n",
       "      <td>8.000000</td>\n",
       "      <td>0.000000</td>\n",
       "      <td>111442.500000</td>\n",
       "    </tr>\n",
       "    <tr>\n",
       "      <th>75%</th>\n",
       "      <td>2.710448e+05</td>\n",
       "      <td>NaN</td>\n",
       "      <td>1.150000e+02</td>\n",
       "      <td>12.000000</td>\n",
       "      <td>0.000000</td>\n",
       "      <td>167175.750000</td>\n",
       "    </tr>\n",
       "    <tr>\n",
       "      <th>max</th>\n",
       "      <td>2.023030e+06</td>\n",
       "      <td>NaN</td>\n",
       "      <td>4.050506e+08</td>\n",
       "      <td>881818.000000</td>\n",
       "      <td>1.000000</td>\n",
       "      <td>222914.000000</td>\n",
       "    </tr>\n",
       "  </tbody>\n",
       "</table>\n",
       "</div>"
      ],
      "text/plain": [
       "             IDBASE  NUMERO  CIRCONFERENCEENCM    HAUTEUR (m)    REMARQUABLE  \\\n",
       "count  2.221700e+05     0.0       2.221700e+05  222170.000000  134317.000000   \n",
       "mean   3.796738e+05     NaN       4.070073e+03      12.318801       0.001422   \n",
       "std    5.389186e+05     NaN       1.220608e+06    1870.923546       0.037683   \n",
       "min    9.987400e+04     NaN       0.000000e+00       0.000000       0.000000   \n",
       "25%    1.580362e+05     NaN       2.500000e+01       3.000000       0.000000   \n",
       "50%    2.141475e+05     NaN       7.000000e+01       8.000000       0.000000   \n",
       "75%    2.710448e+05     NaN       1.150000e+02      12.000000       0.000000   \n",
       "max    2.023030e+06     NaN       4.050506e+08  881818.000000       1.000000   \n",
       "\n",
       "            OBJECTID  \n",
       "count  222170.000000  \n",
       "mean   111444.457591  \n",
       "std     64348.602305  \n",
       "min         1.000000  \n",
       "25%     55727.250000  \n",
       "50%    111442.500000  \n",
       "75%    167175.750000  \n",
       "max    222914.000000  "
      ]
     },
     "execution_count": 4,
     "metadata": {},
     "output_type": "execute_result"
    }
   ],
   "source": [
    "df.describe()\n",
    "# NB: no missing value for hauteur but some inconsistent values : max at 881 818 meters , values at 0 "
   ]
  },
  {
   "cell_type": "markdown",
   "metadata": {},
   "source": [
    "### we treat 0 values at 0 as missing values : and will apply our model to those \n"
   ]
  },
  {
   "cell_type": "code",
   "execution_count": 79,
   "metadata": {
    "collapsed": false
   },
   "outputs": [
    {
     "name": "stdout",
     "output_type": "stream",
     "text": [
      "51513\n"
     ]
    }
   ],
   "source": [
    "df0 = df[df['HAUTEUR (m)']==0]#\n",
    "print(len(df0))"
   ]
  },
  {
   "cell_type": "code",
   "execution_count": 6,
   "metadata": {
    "collapsed": false
   },
   "outputs": [
    {
     "name": "stdout",
     "output_type": "stream",
     "text": [
      "222170\n",
      "128283\n"
     ]
    }
   ],
   "source": [
    "# there seems to be outliers in the target variable 'Hauteur' -> values equal to 0 and values extremely high \n",
    "# delete those values \n",
    "print(len(df))\n",
    "df= df[(df['HAUTEUR (m)']<15)& (df['HAUTEUR (m)']>0)]#\n",
    "print(len(df))"
   ]
  },
  {
   "cell_type": "markdown",
   "metadata": {},
   "source": [
    "### we end up with a training set of 128 283 observations"
   ]
  },
  {
   "cell_type": "markdown",
   "metadata": {},
   "source": [
    "### now take a look at missing values "
   ]
  },
  {
   "cell_type": "code",
   "execution_count": 7,
   "metadata": {
    "collapsed": false
   },
   "outputs": [
    {
     "name": "stdout",
     "output_type": "stream",
     "text": [
      "(variable, # null, % null)\n",
      "('IDBASE', 0, 0.0)\n",
      "('TYPEEMPLACEMENT', 0, 0.0)\n",
      "('DOMANIALITE', 1, 0.0)\n",
      "('ARRONDISSEMENT', 0, 0.0)\n",
      "('COMPLEMENTADRESSE', 96771, 75.44)\n",
      "('NUMERO', 128283, 100.0)\n",
      "('LIEU / ADRESSE', 0, 0.0)\n",
      "('IDEMPLACEMENT', 0, 0.0)\n",
      "('CIRCONFERENCEENCM', 0, 0.0)\n",
      "('HAUTEUR (m)', 0, 0.0)\n",
      "('STADEDEVELOPPEMENT', 31848, 24.83)\n",
      "('PEPINIERE', 3244, 2.53)\n",
      "('ESPECE', 1117, 0.87)\n",
      "('VARIETEOUCULTIVAR', 102816, 80.15)\n",
      "('GENRE', 0, 0.0)\n",
      "('DATEPLANTATION', 0, 0.0)\n",
      "('REMARQUABLE', 33615, 26.2)\n",
      "('LIBELLEFRANCAIS', 1144, 0.89)\n",
      "('OBJECTID', 0, 0.0)\n",
      "('geo_point_2d', 0, 0.0)\n"
     ]
    }
   ],
   "source": [
    "print(\"(variable, # null, % null)\")\n",
    "for i in df.columns: \n",
    "    print(i, df[i].isnull().sum(),  round(df[i].isnull().sum()*100/len(df), 2))\n"
   ]
  },
  {
   "cell_type": "code",
   "execution_count": 8,
   "metadata": {
    "collapsed": false
   },
   "outputs": [
    {
     "name": "stdout",
     "output_type": "stream",
     "text": [
      "('TYPEEMPLACEMENT', <type 'str'>, 1)\n",
      "('DOMANIALITE', <type 'str'>, 11)\n",
      "('ARRONDISSEMENT', <type 'str'>, 25)\n",
      "('COMPLEMENTADRESSE', <type 'str'>, 3130)\n",
      "('LIEU / ADRESSE', <type 'str'>, 5818)\n",
      "('IDEMPLACEMENT', <type 'str'>, 43901)\n",
      "('STADEDEVELOPPEMENT', <type 'str'>, 5)\n",
      "('PEPINIERE', <type 'str'>, 30)\n",
      "('ESPECE', <type 'str'>, 378)\n",
      "('GENRE', <type 'str'>, 151)\n",
      "('DATEPLANTATION', <type 'str'>, 2379)\n",
      "('LIBELLEFRANCAIS', <type 'str'>, 174)\n",
      "('geo_point_2d', <type 'str'>, 128281)\n"
     ]
    }
   ],
   "source": [
    "# identify string / unicode values and count their number of modalities\n",
    "for i in [x for x in df.columns if type(df.get_value(0,x)) in [str, unicode]]: \n",
    "    print(i, type(df.get_value(0,x)), len(set(df[i])))"
   ]
  },
  {
   "cell_type": "markdown",
   "metadata": {},
   "source": [
    "#### drop some useless variables"
   ]
  },
  {
   "cell_type": "code",
   "execution_count": 9,
   "metadata": {
    "collapsed": true
   },
   "outputs": [],
   "source": [
    "# get rid of variables with too many missing values \n",
    "cols_to_rm = ['TYPEEMPLACEMENT', # because only one modality \n",
    "                'IDBASE', 'IDEMPLACEMENT', 'OBJECTID', # probably ID's with no relevant info \n",
    "              'COMPLEMENTADRESSE', 'NUMERO', 'VARIETEOUCULTIVAR',  # because too many missing values \n",
    "              'LIEU / ADRESSE', 'IDEMPLACEMENT' # because redondant with geoloc\n",
    "              ]\n",
    "df.drop(cols_to_rm, axis =1, inplace = True)"
   ]
  },
  {
   "cell_type": "markdown",
   "metadata": {},
   "source": [
    "## 1st feature engineering : with geoloc and date variables"
   ]
  },
  {
   "cell_type": "code",
   "execution_count": 10,
   "metadata": {
    "collapsed": false
   },
   "outputs": [],
   "source": [
    "# convert geo_point_2D to lat / long \n",
    "df['lat'],  df['long']= df['geo_point_2d'].map(lambda x: float(x.split(',', 1 )[0])), \\\n",
    "                        df['geo_point_2d'].map(lambda x: float(x.split(',', 1 )[1]))\n",
    "df.drop('geo_point_2d', axis= 1, inplace = True)"
   ]
  },
  {
   "cell_type": "code",
   "execution_count": 11,
   "metadata": {
    "collapsed": false
   },
   "outputs": [],
   "source": [
    "# convert date \n",
    "df['DATEPLANTATION'] = df['DATEPLANTATION'].map(lambda x: x if x > '1677' else np.nan) \n",
    "## NB: replace dates prior to 1677 as it is the min time boudery (pandas cannot convert to date values below this year)\n",
    "df['DATEPLANTATION'] = pd.to_datetime(df['DATEPLANTATION'], yearfirst = True)\n",
    "\n",
    "# feature engineering using date plantation \n",
    "\n",
    "# compute age of tree\n",
    "df['age_tree'] = 2017 - df['DATEPLANTATION'].map(lambda x: x.year)\n",
    "\n",
    "df['month'] = df['DATEPLANTATION'].map(lambda x: str(x.month)) # compute month which we convert to string in order to \n",
    "# dummify it later \n",
    "\n",
    "# drop date \n",
    "df.drop('DATEPLANTATION', axis = 1, inplace = True)"
   ]
  },
  {
   "cell_type": "markdown",
   "metadata": {},
   "source": [
    "### take a look at categorical variabes "
   ]
  },
  {
   "cell_type": "code",
   "execution_count": 12,
   "metadata": {
    "collapsed": false
   },
   "outputs": [
    {
     "name": "stdout",
     "output_type": "stream",
     "text": [
      "('DOMANIALITE', 11)\n",
      "('ARRONDISSEMENT', 25)\n",
      "('STADEDEVELOPPEMENT', 5)\n",
      "('PEPINIERE', 30)\n",
      "('ESPECE', 378)\n",
      "('GENRE', 151)\n",
      "('LIBELLEFRANCAIS', 174)\n",
      "('month', 13)\n"
     ]
    }
   ],
   "source": [
    "categorical = [x for x in df.columns if type(df.get_value(0,x)) in [str, unicode]]\n",
    "\n",
    "for i in categorical: \n",
    "    print(i, len(set(df[i])))"
   ]
  },
  {
   "cell_type": "code",
   "execution_count": 13,
   "metadata": {
    "collapsed": false
   },
   "outputs": [],
   "source": [
    "# for the string variables: perform a bit of text processing \n",
    "\n",
    "# function to remove accents \n",
    "def remove_accents(input_str): \n",
    "    nfkd_form = unicodedata.normalize('NFKD', input_str) \n",
    "    return ''.join((c for c in nfkd_form if unicodedata.category(c) != 'Mn'))\n",
    "\n",
    "# decode the string using latin-1 \n",
    "\n",
    "for i in categorical: \n",
    "\n",
    "    # strip and put to lower case \n",
    "    df[i] = df[i].apply(lambda x: str(x).strip().lower())\n",
    "    # decode with latin 1 -> often does the trick with French character when utf-8 does not work \n",
    "    df[i] = df[i].apply(lambda x: x.decode('latin-1'))\n",
    "    # remove accent \n",
    "    df[i] = df[i].apply(lambda x: remove_accents(x))"
   ]
  },
  {
   "cell_type": "code",
   "execution_count": 14,
   "metadata": {
    "collapsed": false
   },
   "outputs": [
    {
     "name": "stdout",
     "output_type": "stream",
     "text": [
      "('DOMANIALITE', 11)\n",
      "('ARRONDISSEMENT', 25)\n",
      "('STADEDEVELOPPEMENT', 5)\n",
      "('PEPINIERE', 30)\n",
      "('ESPECE', 378)\n",
      "('GENRE', 151)\n",
      "('LIBELLEFRANCAIS', 174)\n",
      "('month', 13)\n"
     ]
    }
   ],
   "source": [
    "# look if our processing resulted into reduction of modalities \n",
    "for i in categorical: \n",
    "    print(i, len(set(df[i])))\n"
   ]
  },
  {
   "cell_type": "markdown",
   "metadata": {},
   "source": [
    "###### no reduction in  number of modalities "
   ]
  },
  {
   "cell_type": "markdown",
   "metadata": {},
   "source": [
    "### 2nd filtering out : drop redundant categorical variables \n",
    "##### keep only 'LIBELLE FRANCAIS' as the 3 are probably redundant and will slow down model computations "
   ]
  },
  {
   "cell_type": "code",
   "execution_count": 15,
   "metadata": {
    "collapsed": true
   },
   "outputs": [],
   "source": [
    "df.drop(['GENRE', 'ESPECE'], axis = 1, inplace = True)"
   ]
  },
  {
   "cell_type": "markdown",
   "metadata": {},
   "source": [
    "## descriptive statistics"
   ]
  },
  {
   "cell_type": "markdown",
   "metadata": {},
   "source": [
    "#### numeric variables "
   ]
  },
  {
   "cell_type": "code",
   "execution_count": 16,
   "metadata": {
    "collapsed": false
   },
   "outputs": [
    {
     "data": {
      "text/html": [
       "<div>\n",
       "<table border=\"1\" class=\"dataframe\">\n",
       "  <thead>\n",
       "    <tr style=\"text-align: right;\">\n",
       "      <th></th>\n",
       "      <th>CIRCONFERENCEENCM</th>\n",
       "      <th>HAUTEUR (m)</th>\n",
       "      <th>REMARQUABLE</th>\n",
       "      <th>lat</th>\n",
       "      <th>long</th>\n",
       "      <th>age_tree</th>\n",
       "    </tr>\n",
       "  </thead>\n",
       "  <tbody>\n",
       "    <tr>\n",
       "      <th>count</th>\n",
       "      <td>1.282830e+05</td>\n",
       "      <td>128283.000000</td>\n",
       "      <td>94668.000000</td>\n",
       "      <td>128283.000000</td>\n",
       "      <td>128283.000000</td>\n",
       "      <td>128282.000000</td>\n",
       "    </tr>\n",
       "    <tr>\n",
       "      <th>mean</th>\n",
       "      <td>6.983597e+03</td>\n",
       "      <td>8.068474</td>\n",
       "      <td>0.000581</td>\n",
       "      <td>48.855680</td>\n",
       "      <td>2.343613</td>\n",
       "      <td>216.976201</td>\n",
       "    </tr>\n",
       "    <tr>\n",
       "      <th>std</th>\n",
       "      <td>1.606324e+06</td>\n",
       "      <td>2.956180</td>\n",
       "      <td>0.024097</td>\n",
       "      <td>0.025002</td>\n",
       "      <td>0.048575</td>\n",
       "      <td>141.950045</td>\n",
       "    </tr>\n",
       "    <tr>\n",
       "      <th>min</th>\n",
       "      <td>0.000000e+00</td>\n",
       "      <td>1.000000</td>\n",
       "      <td>0.000000</td>\n",
       "      <td>48.742290</td>\n",
       "      <td>2.210416</td>\n",
       "      <td>0.000000</td>\n",
       "    </tr>\n",
       "    <tr>\n",
       "      <th>25%</th>\n",
       "      <td>4.000000e+01</td>\n",
       "      <td>5.000000</td>\n",
       "      <td>0.000000</td>\n",
       "      <td>48.836533</td>\n",
       "      <td>2.305922</td>\n",
       "      <td>24.000000</td>\n",
       "    </tr>\n",
       "    <tr>\n",
       "      <th>50%</th>\n",
       "      <td>6.500000e+01</td>\n",
       "      <td>8.000000</td>\n",
       "      <td>0.000000</td>\n",
       "      <td>48.853462</td>\n",
       "      <td>2.344760</td>\n",
       "      <td>317.000000</td>\n",
       "    </tr>\n",
       "    <tr>\n",
       "      <th>75%</th>\n",
       "      <td>9.500000e+01</td>\n",
       "      <td>10.000000</td>\n",
       "      <td>0.000000</td>\n",
       "      <td>48.873130</td>\n",
       "      <td>2.380861</td>\n",
       "      <td>317.000000</td>\n",
       "    </tr>\n",
       "    <tr>\n",
       "      <th>max</th>\n",
       "      <td>4.050506e+08</td>\n",
       "      <td>14.000000</td>\n",
       "      <td>1.000000</td>\n",
       "      <td>48.911485</td>\n",
       "      <td>2.469759</td>\n",
       "      <td>318.000000</td>\n",
       "    </tr>\n",
       "  </tbody>\n",
       "</table>\n",
       "</div>"
      ],
      "text/plain": [
       "       CIRCONFERENCEENCM    HAUTEUR (m)   REMARQUABLE            lat  \\\n",
       "count       1.282830e+05  128283.000000  94668.000000  128283.000000   \n",
       "mean        6.983597e+03       8.068474      0.000581      48.855680   \n",
       "std         1.606324e+06       2.956180      0.024097       0.025002   \n",
       "min         0.000000e+00       1.000000      0.000000      48.742290   \n",
       "25%         4.000000e+01       5.000000      0.000000      48.836533   \n",
       "50%         6.500000e+01       8.000000      0.000000      48.853462   \n",
       "75%         9.500000e+01      10.000000      0.000000      48.873130   \n",
       "max         4.050506e+08      14.000000      1.000000      48.911485   \n",
       "\n",
       "                long       age_tree  \n",
       "count  128283.000000  128282.000000  \n",
       "mean        2.343613     216.976201  \n",
       "std         0.048575     141.950045  \n",
       "min         2.210416       0.000000  \n",
       "25%         2.305922      24.000000  \n",
       "50%         2.344760     317.000000  \n",
       "75%         2.380861     317.000000  \n",
       "max         2.469759     318.000000  "
      ]
     },
     "execution_count": 16,
     "metadata": {},
     "output_type": "execute_result"
    }
   ],
   "source": [
    "df.describe()"
   ]
  },
  {
   "cell_type": "code",
   "execution_count": 17,
   "metadata": {
    "collapsed": false
   },
   "outputs": [
    {
     "data": {
      "text/plain": [
       "<matplotlib.axes._subplots.AxesSubplot at 0xbd2a978>"
      ]
     },
     "execution_count": 17,
     "metadata": {},
     "output_type": "execute_result"
    },
    {
     "data": {
      "image/png": "[encoded data removed]",
      "text/plain": [
       "<matplotlib.figure.Figure at 0xbcf8860>"
      ]
     },
     "metadata": {},
     "output_type": "display_data"
    }
   ],
   "source": [
    "num = [x for x in df.columns if x not in categorical]\n",
    "hmap = df[num].corr()\n",
    "plt.subplots(figsize=(12, 9))\n",
    "sns.heatmap(hmap, vmax=.8,annot=True,cmap=\"BrBG\", square=True)"
   ]
  },
  {
   "cell_type": "markdown",
   "metadata": {},
   "source": [
    "#### no strong correlations between numerical variables \n",
    "#### we note that hauteur is quite correlated with age tree (positively: 0.28) and negatively with longitude (-0.11)"
   ]
  },
  {
   "cell_type": "code",
   "execution_count": 18,
   "metadata": {
    "collapsed": false
   },
   "outputs": [
    {
     "name": "stdout",
     "output_type": "stream",
     "text": [
      "DOMANIALITE\n"
     ]
    },
    {
     "data": {
      "image/png": "[encoded data removed]",
      "text/plain": [
       "<matplotlib.figure.Figure at 0x133a6c88>"
      ]
     },
     "metadata": {},
     "output_type": "display_data"
    },
    {
     "name": "stdout",
     "output_type": "stream",
     "text": [
      "STADEDEVELOPPEMENT\n"
     ]
    },
    {
     "data": {
      "image/png": "[encoded data removed]",
      "text/plain": [
       "<matplotlib.figure.Figure at 0x132435f8>"
      ]
     },
     "metadata": {},
     "output_type": "display_data"
    },
    {
     "name": "stdout",
     "output_type": "stream",
     "text": [
      "PEPINIERE\n"
     ]
    },
    {
     "data": {
      "image/png": "[encoded data removed]",
      "text/plain": [
       "<matplotlib.figure.Figure at 0x13243ef0>"
      ]
     },
     "metadata": {},
     "output_type": "display_data"
    }
   ],
   "source": [
    "## for categorical with few modalities : plot bar chart : mean of hauteur \n",
    "var_few_mod = ['DOMANIALITE', 'STADEDEVELOPPEMENT', 'PEPINIERE']\n",
    "for i in var_few_mod: \n",
    "    print(i)\n",
    "    dfg = df[[i, 'HAUTEUR (m)']].groupby(i).mean().reset_index()\n",
    "    dfg.sort_values('HAUTEUR (m)', ascending = False, inplace = True)\n",
    "    plt.bar(range(0, len(dfg)), dfg['HAUTEUR (m)'], tick_label = dfg[i])#, tick_label = dfg[i]\n",
    "    plt.xticks(rotation=45)\n",
    "    plt.show()\n",
    "\n",
    "    "
   ]
  },
  {
   "cell_type": "markdown",
   "metadata": {},
   "source": [
    "#### there are some variations in \"Hauteur\" accross the modalities in each variable: strong variations for 'pepiniere', less strong 'Dominialité' and 'stade développpement' . Pepiniere will probably create a more important dummy features in the model "
   ]
  },
  {
   "cell_type": "markdown",
   "metadata": {},
   "source": [
    "## feature engineering "
   ]
  },
  {
   "cell_type": "markdown",
   "metadata": {},
   "source": [
    "### dummify categorical variables "
   ]
  },
  {
   "cell_type": "code",
   "execution_count": 20,
   "metadata": {
    "collapsed": false
   },
   "outputs": [
    {
     "name": "stdout",
     "output_type": "stream",
     "text": [
      "(variable, number of dummies)\n",
      "('DOMANIALITE', 11)\n",
      "('ARRONDISSEMENT', 25)\n",
      "('STADEDEVELOPPEMENT', 5)\n",
      "('PEPINIERE', 30)\n",
      "('LIBELLEFRANCAIS', 174)\n",
      "('month', 13)\n"
     ]
    }
   ],
   "source": [
    "cols_to_dummy = [x for x in df.columns if type(df.get_value(0,x)) in [str, unicode]]\n",
    "print('(variable, number of dummies)')\n",
    "for i in cols_to_dummy: \n",
    "    print(i, len(set(df[i])))\n",
    "    dummies = pd.get_dummies(df[i], prefix=i, prefix_sep='_', dummy_na=False, columns=None, sparse=False, drop_first=True)\n",
    "    df.drop([i], axis = 1, inplace = True)\n",
    "    df = pd.concat([dummies, df], axis= 1)\n",
    "    "
   ]
  },
  {
   "cell_type": "markdown",
   "metadata": {},
   "source": [
    "### store target into array Y "
   ]
  },
  {
   "cell_type": "code",
   "execution_count": 21,
   "metadata": {
    "collapsed": true
   },
   "outputs": [],
   "source": [
    "Y = df['HAUTEUR (m)'].values\n",
    "df = df.drop('HAUTEUR (m)', axis =1) "
   ]
  },
  {
   "cell_type": "markdown",
   "metadata": {},
   "source": [
    "### impute missing values"
   ]
  },
  {
   "cell_type": "code",
   "execution_count": 22,
   "metadata": {
    "collapsed": false
   },
   "outputs": [],
   "source": [
    "imp = Imputer(missing_values='NaN', strategy='mean', axis=0)\n",
    "imp.fit(df)\n",
    "X = imp.transform(df)"
   ]
  },
  {
   "cell_type": "markdown",
   "metadata": {},
   "source": [
    "### slit between train and test (80/20)"
   ]
  },
  {
   "cell_type": "code",
   "execution_count": 23,
   "metadata": {
    "collapsed": true
   },
   "outputs": [],
   "source": [
    "X_train, X_test, y_train, y_test = train_test_split(X, Y, test_size=0.2, random_state=42)\n"
   ]
  },
  {
   "cell_type": "markdown",
   "metadata": {},
   "source": [
    "# build regression model "
   ]
  },
  {
   "cell_type": "markdown",
   "metadata": {},
   "source": [
    "### First: estimate a simple linear regression in order to have a benchmark "
   ]
  },
  {
   "cell_type": "code",
   "execution_count": 24,
   "metadata": {
    "collapsed": false
   },
   "outputs": [
    {
     "name": "stdout",
     "output_type": "stream",
     "text": [
      "('score', 0.47319562181734798)\n",
      "('Running time: ', 0.04059999783833822, 'min')\n",
      "('MSE:', 4.5796454376147731)\n",
      "('RMSE:', 2.140010616238801)\n"
     ]
    }
   ],
   "source": [
    "t0 = time.time()\n",
    "lm = LinearRegression().fit(X_train, y_train)   \n",
    "print('score', lm.score(X_test, y_test))\n",
    "t1 = time.time()\n",
    "total = (t1-t0)/60\n",
    "print('Running time: ',total, 'min')\n",
    "y_test_hat = lm.predict(X_test)\n",
    "meanSquaredError=mean_squared_error(y_test, y_test_hat)\n",
    "print(\"MSE:\", meanSquaredError)\n",
    "rootMeanSquaredError = sqrt(meanSquaredError)\n",
    "print(\"RMSE:\", rootMeanSquaredError)"
   ]
  },
  {
   "cell_type": "markdown",
   "metadata": {},
   "source": [
    "## Second : estimate a gradient boosting regressor "
   ]
  },
  {
   "cell_type": "code",
   "execution_count": 25,
   "metadata": {
    "collapsed": false
   },
   "outputs": [
    {
     "name": "stdout",
     "output_type": "stream",
     "text": [
      "('score', 0.65389263409782361)\n",
      "('Running time: ', 3.5217833320299783, 'min')\n"
     ]
    }
   ],
   "source": [
    "\n",
    "t0 = time.time()\n",
    "clf = GradientBoostingRegressor().fit(X_train, y_train)     \n",
    "print('score', clf.score(X_test, y_test))\n",
    "t1 = time.time()\n",
    "total = (t1-t0)/60\n",
    "print('Running time: ', total, 'min')"
   ]
  },
  {
   "cell_type": "code",
   "execution_count": 26,
   "metadata": {
    "collapsed": false
   },
   "outputs": [
    {
     "data": {
      "text/plain": [
       "0.65492109264339105"
      ]
     },
     "execution_count": 26,
     "metadata": {},
     "output_type": "execute_result"
    }
   ],
   "source": [
    "clf.score(X_train, y_train) "
   ]
  },
  {
   "cell_type": "markdown",
   "metadata": {},
   "source": [
    "#### very little over fitting as R2 scores on train and test are very close "
   ]
  },
  {
   "cell_type": "code",
   "execution_count": 27,
   "metadata": {
    "collapsed": false
   },
   "outputs": [
    {
     "name": "stdout",
     "output_type": "stream",
     "text": [
      "('MSE:', 3.0088000115845763)\n",
      "('RMSE:', 1.7345892919030073)\n"
     ]
    }
   ],
   "source": [
    "# compute MSE and RMSE on test \n",
    "y_test_hat = clf.predict(X_test)\n",
    "meanSquaredError=mean_squared_error(y_test, y_test_hat)\n",
    "print(\"MSE:\", meanSquaredError)\n",
    "rootMeanSquaredError = sqrt(meanSquaredError)\n",
    "print(\"RMSE:\", rootMeanSquaredError)\n"
   ]
  },
  {
   "cell_type": "code",
   "execution_count": 40,
   "metadata": {
    "collapsed": false
   },
   "outputs": [
    {
     "data": {
      "image/png": "[encoded data removed]",
      "text/plain": [
       "<matplotlib.figure.Figure at 0xfdab128>"
      ]
     },
     "metadata": {},
     "output_type": "display_data"
    }
   ],
   "source": [
    "# make a scatter of y_true in x and y_pred in y \n",
    "# as most of the heights are integers: round predictions before plotting \n",
    "df_plot = pd.DataFrame({'y_true': list(y_test), 'y_pred': list(y_test_hat)})\n",
    "df_plot = df_plot.applymap(round)\n",
    "df_plot = df_plot.groupby(['y_true', 'y_pred']).size().reset_index(name = 'count')\n",
    "\n",
    "plt.scatter(x = df_plot['y_true'], y = df_plot['y_pred'], s = df_plot['count'])\n",
    "plt.show()"
   ]
  },
  {
   "cell_type": "code",
   "execution_count": 41,
   "metadata": {
    "collapsed": false
   },
   "outputs": [
    {
     "data": {
      "image/png": "[encoded data removed]",
      "text/plain": [
       "<matplotlib.figure.Figure at 0x1172db70>"
      ]
     },
     "metadata": {},
     "output_type": "display_data"
    }
   ],
   "source": [
    "# make a scatter of y_true in x and y_pred in y \n",
    "# as most of the heights are integers: round predictions before plotting \n",
    "y_train_hat = clf.predict(X_train)\n",
    "df_plot = pd.DataFrame({'y_true': list(y_train), 'y_pred': list(y_train_hat)})\n",
    "df_plot = df_plot.applymap(round)\n",
    "df_plot = df_plot.groupby(['y_true', 'y_pred']).size().reset_index(name = 'count')\n",
    "\n",
    "plt.scatter(x = df_plot['y_true'], y = df_plot['y_pred'], s = df_plot['count'])\n",
    "plt.show()"
   ]
  },
  {
   "cell_type": "markdown",
   "metadata": {
    "collapsed": true
   },
   "source": [
    "#### the model seeems less good at predicting low heights as the low ones, y_hat is more scattered "
   ]
  },
  {
   "cell_type": "code",
   "execution_count": 48,
   "metadata": {
    "collapsed": false
   },
   "outputs": [
    {
     "data": {
      "image/png": "[encoded data removed]",
      "text/plain": [
       "<matplotlib.figure.Figure at 0x17ae97f0>"
      ]
     },
     "metadata": {},
     "output_type": "display_data"
    }
   ],
   "source": [
    "# Plot feature importance\n",
    "feature_importance = clf.feature_importances_\n",
    "# make importances relative to max importance\n",
    "feature_importance = 100.0 * (feature_importance / feature_importance.max())\n",
    "sorted_idx = np.argsort(feature_importance)[-20:]\n",
    "pos = np.arange(sorted_idx.shape[0]) + .5\n",
    "plt.subplot(1, 2, 2)\n",
    "plt.barh(pos, feature_importance[sorted_idx], align='center')\n",
    "plt.yticks(pos, df.columns[sorted_idx])\n",
    "plt.xlabel('Relative Importance')\n",
    "plt.title('Variable Importance')\n",
    "plt.show()"
   ]
  },
  {
   "cell_type": "code",
   "execution_count": 66,
   "metadata": {
    "collapsed": false
   },
   "outputs": [],
   "source": [
    "# try estimating GBM with top most important features \n"
   ]
  },
  {
   "cell_type": "code",
   "execution_count": 77,
   "metadata": {
    "collapsed": false
   },
   "outputs": [
    {
     "data": {
      "text/plain": [
       "(128283L, 257L)"
      ]
     },
     "execution_count": 77,
     "metadata": {},
     "output_type": "execute_result"
    }
   ],
   "source": [
    "X.shape"
   ]
  },
  {
   "cell_type": "code",
   "execution_count": 63,
   "metadata": {
    "collapsed": false
   },
   "outputs": [],
   "source": [
    "top50 = np.argsort(feature_importance)[-50:]\n",
    "X_train2 = X_train[:,top50]\n",
    "X_test2 = X_test[:,top50]"
   ]
  },
  {
   "cell_type": "code",
   "execution_count": 65,
   "metadata": {
    "collapsed": false
   },
   "outputs": [
    {
     "name": "stdout",
     "output_type": "stream",
     "text": [
      "('score', 0.65335740046577051)\n",
      "('Running time: ', 0.40273333390553795, 'min')\n"
     ]
    }
   ],
   "source": [
    "\n",
    "t0 = time.time()\n",
    "clf = GradientBoostingRegressor().fit(X_train2, y_train)     \n",
    "print('score', clf.score(X_test2, y_test))\n",
    "t1 = time.time()\n",
    "total = (t1-t0)/60\n",
    "print('Running time: ', total, 'min')"
   ]
  },
  {
   "cell_type": "markdown",
   "metadata": {},
   "source": [
    "#### same score but a lot faster "
   ]
  },
  {
   "cell_type": "markdown",
   "metadata": {},
   "source": [
    "### fine tune GBM parameters with grid search "
   ]
  },
  {
   "cell_type": "code",
   "execution_count": 67,
   "metadata": {
    "collapsed": false
   },
   "outputs": [
    {
     "ename": "KeyboardInterrupt",
     "evalue": "",
     "output_type": "error",
     "traceback": [
      "\u001b[0;31m\u001b[0m",
      "\u001b[0;31mKeyboardInterrupt\u001b[0mTraceback (most recent call last)",
      "\u001b[0;32m<ipython-input-67-7184a441ecfe>\u001b[0m in \u001b[0;36m<module>\u001b[0;34m()\u001b[0m\n\u001b[1;32m      7\u001b[0m \u001b[1;33m\u001b[0m\u001b[0m\n\u001b[1;32m      8\u001b[0m \u001b[0mrandom_search\u001b[0m \u001b[1;33m=\u001b[0m \u001b[0mRandomizedSearchCV\u001b[0m\u001b[1;33m(\u001b[0m        \u001b[0mmodel\u001b[0m\u001b[1;33m,\u001b[0m\u001b[0mparam_distributions\u001b[0m\u001b[1;33m=\u001b[0m\u001b[0mparam_test\u001b[0m\u001b[1;33m,\u001b[0m        \u001b[0mn_iter\u001b[0m\u001b[1;33m=\u001b[0m\u001b[0mn_iter_search\u001b[0m\u001b[1;33m,\u001b[0m\u001b[0mcv\u001b[0m\u001b[1;33m=\u001b[0m\u001b[1;36m3\u001b[0m\u001b[1;33m)\u001b[0m\u001b[1;33m\u001b[0m\u001b[0m\n\u001b[0;32m----> 9\u001b[0;31m \u001b[0mrandom_search\u001b[0m\u001b[1;33m.\u001b[0m\u001b[0mfit\u001b[0m\u001b[1;33m(\u001b[0m\u001b[0mX_train2\u001b[0m\u001b[1;33m,\u001b[0m \u001b[0my_train\u001b[0m\u001b[1;33m)\u001b[0m\u001b[1;33m\u001b[0m\u001b[0m\n\u001b[0m\u001b[1;32m     10\u001b[0m \u001b[1;33m\u001b[0m\u001b[0m\n\u001b[1;32m     11\u001b[0m \u001b[0mbestModel\u001b[0m \u001b[1;33m=\u001b[0m \u001b[0mrandom_search\u001b[0m\u001b[1;33m.\u001b[0m\u001b[0mbest_estimator_\u001b[0m\u001b[1;33m\u001b[0m\u001b[0m\n",
      "\u001b[0;32mC:\\Users\\kmontali\\AppData\\Local\\Continuum\\Anaconda2\\lib\\site-packages\\sklearn\\model_selection\\_search.pyc\u001b[0m in \u001b[0;36mfit\u001b[0;34m(self, X, y, groups)\u001b[0m\n\u001b[1;32m   1188\u001b[0m                                           \u001b[0mself\u001b[0m\u001b[1;33m.\u001b[0m\u001b[0mn_iter\u001b[0m\u001b[1;33m,\u001b[0m\u001b[1;33m\u001b[0m\u001b[0m\n\u001b[1;32m   1189\u001b[0m                                           random_state=self.random_state)\n\u001b[0;32m-> 1190\u001b[0;31m         \u001b[1;32mreturn\u001b[0m \u001b[0mself\u001b[0m\u001b[1;33m.\u001b[0m\u001b[0m_fit\u001b[0m\u001b[1;33m(\u001b[0m\u001b[0mX\u001b[0m\u001b[1;33m,\u001b[0m \u001b[0my\u001b[0m\u001b[1;33m,\u001b[0m \u001b[0mgroups\u001b[0m\u001b[1;33m,\u001b[0m \u001b[0msampled_params\u001b[0m\u001b[1;33m)\u001b[0m\u001b[1;33m\u001b[0m\u001b[0m\n\u001b[0m",
      "\u001b[0;32mC:\\Users\\kmontali\\AppData\\Local\\Continuum\\Anaconda2\\lib\\site-packages\\sklearn\\model_selection\\_search.pyc\u001b[0m in \u001b[0;36m_fit\u001b[0;34m(self, X, y, groups, parameter_iterable)\u001b[0m\n\u001b[1;32m    562\u001b[0m                                   \u001b[0mreturn_times\u001b[0m\u001b[1;33m=\u001b[0m\u001b[0mTrue\u001b[0m\u001b[1;33m,\u001b[0m \u001b[0mreturn_parameters\u001b[0m\u001b[1;33m=\u001b[0m\u001b[0mTrue\u001b[0m\u001b[1;33m,\u001b[0m\u001b[1;33m\u001b[0m\u001b[0m\n\u001b[1;32m    563\u001b[0m                                   error_score=self.error_score)\n\u001b[0;32m--> 564\u001b[0;31m           \u001b[1;32mfor\u001b[0m \u001b[0mparameters\u001b[0m \u001b[1;32min\u001b[0m \u001b[0mparameter_iterable\u001b[0m\u001b[1;33m\u001b[0m\u001b[0m\n\u001b[0m\u001b[1;32m    565\u001b[0m           for train, test in cv_iter)\n\u001b[1;32m    566\u001b[0m \u001b[1;33m\u001b[0m\u001b[0m\n",
      "\u001b[0;32mC:\\Users\\kmontali\\AppData\\Local\\Continuum\\Anaconda2\\lib\\site-packages\\sklearn\\externals\\joblib\\parallel.pyc\u001b[0m in \u001b[0;36m__call__\u001b[0;34m(self, iterable)\u001b[0m\n\u001b[1;32m    756\u001b[0m             \u001b[1;31m# was dispatched. In particular this covers the edge\u001b[0m\u001b[1;33m\u001b[0m\u001b[1;33m\u001b[0m\u001b[0m\n\u001b[1;32m    757\u001b[0m             \u001b[1;31m# case of Parallel used with an exhausted iterator.\u001b[0m\u001b[1;33m\u001b[0m\u001b[1;33m\u001b[0m\u001b[0m\n\u001b[0;32m--> 758\u001b[0;31m             \u001b[1;32mwhile\u001b[0m \u001b[0mself\u001b[0m\u001b[1;33m.\u001b[0m\u001b[0mdispatch_one_batch\u001b[0m\u001b[1;33m(\u001b[0m\u001b[0miterator\u001b[0m\u001b[1;33m)\u001b[0m\u001b[1;33m:\u001b[0m\u001b[1;33m\u001b[0m\u001b[0m\n\u001b[0m\u001b[1;32m    759\u001b[0m                 \u001b[0mself\u001b[0m\u001b[1;33m.\u001b[0m\u001b[0m_iterating\u001b[0m \u001b[1;33m=\u001b[0m \u001b[0mTrue\u001b[0m\u001b[1;33m\u001b[0m\u001b[0m\n\u001b[1;32m    760\u001b[0m             \u001b[1;32melse\u001b[0m\u001b[1;33m:\u001b[0m\u001b[1;33m\u001b[0m\u001b[0m\n",
      "\u001b[0;32mC:\\Users\\kmontali\\AppData\\Local\\Continuum\\Anaconda2\\lib\\site-packages\\sklearn\\externals\\joblib\\parallel.pyc\u001b[0m in \u001b[0;36mdispatch_one_batch\u001b[0;34m(self, iterator)\u001b[0m\n\u001b[1;32m    606\u001b[0m                 \u001b[1;32mreturn\u001b[0m \u001b[0mFalse\u001b[0m\u001b[1;33m\u001b[0m\u001b[0m\n\u001b[1;32m    607\u001b[0m             \u001b[1;32melse\u001b[0m\u001b[1;33m:\u001b[0m\u001b[1;33m\u001b[0m\u001b[0m\n\u001b[0;32m--> 608\u001b[0;31m                 \u001b[0mself\u001b[0m\u001b[1;33m.\u001b[0m\u001b[0m_dispatch\u001b[0m\u001b[1;33m(\u001b[0m\u001b[0mtasks\u001b[0m\u001b[1;33m)\u001b[0m\u001b[1;33m\u001b[0m\u001b[0m\n\u001b[0m\u001b[1;32m    609\u001b[0m                 \u001b[1;32mreturn\u001b[0m \u001b[0mTrue\u001b[0m\u001b[1;33m\u001b[0m\u001b[0m\n\u001b[1;32m    610\u001b[0m \u001b[1;33m\u001b[0m\u001b[0m\n",
      "\u001b[0;32mC:\\Users\\kmontali\\AppData\\Local\\Continuum\\Anaconda2\\lib\\site-packages\\sklearn\\externals\\joblib\\parallel.pyc\u001b[0m in \u001b[0;36m_dispatch\u001b[0;34m(self, batch)\u001b[0m\n\u001b[1;32m    569\u001b[0m         \u001b[0mdispatch_timestamp\u001b[0m \u001b[1;33m=\u001b[0m \u001b[0mtime\u001b[0m\u001b[1;33m.\u001b[0m\u001b[0mtime\u001b[0m\u001b[1;33m(\u001b[0m\u001b[1;33m)\u001b[0m\u001b[1;33m\u001b[0m\u001b[0m\n\u001b[1;32m    570\u001b[0m         \u001b[0mcb\u001b[0m \u001b[1;33m=\u001b[0m \u001b[0mBatchCompletionCallBack\u001b[0m\u001b[1;33m(\u001b[0m\u001b[0mdispatch_timestamp\u001b[0m\u001b[1;33m,\u001b[0m \u001b[0mlen\u001b[0m\u001b[1;33m(\u001b[0m\u001b[0mbatch\u001b[0m\u001b[1;33m)\u001b[0m\u001b[1;33m,\u001b[0m \u001b[0mself\u001b[0m\u001b[1;33m)\u001b[0m\u001b[1;33m\u001b[0m\u001b[0m\n\u001b[0;32m--> 571\u001b[0;31m         \u001b[0mjob\u001b[0m \u001b[1;33m=\u001b[0m \u001b[0mself\u001b[0m\u001b[1;33m.\u001b[0m\u001b[0m_backend\u001b[0m\u001b[1;33m.\u001b[0m\u001b[0mapply_async\u001b[0m\u001b[1;33m(\u001b[0m\u001b[0mbatch\u001b[0m\u001b[1;33m,\u001b[0m \u001b[0mcallback\u001b[0m\u001b[1;33m=\u001b[0m\u001b[0mcb\u001b[0m\u001b[1;33m)\u001b[0m\u001b[1;33m\u001b[0m\u001b[0m\n\u001b[0m\u001b[1;32m    572\u001b[0m         \u001b[0mself\u001b[0m\u001b[1;33m.\u001b[0m\u001b[0m_jobs\u001b[0m\u001b[1;33m.\u001b[0m\u001b[0mappend\u001b[0m\u001b[1;33m(\u001b[0m\u001b[0mjob\u001b[0m\u001b[1;33m)\u001b[0m\u001b[1;33m\u001b[0m\u001b[0m\n\u001b[1;32m    573\u001b[0m \u001b[1;33m\u001b[0m\u001b[0m\n",
      "\u001b[0;32mC:\\Users\\kmontali\\AppData\\Local\\Continuum\\Anaconda2\\lib\\site-packages\\sklearn\\externals\\joblib\\_parallel_backends.pyc\u001b[0m in \u001b[0;36mapply_async\u001b[0;34m(self, func, callback)\u001b[0m\n\u001b[1;32m    107\u001b[0m     \u001b[1;32mdef\u001b[0m \u001b[0mapply_async\u001b[0m\u001b[1;33m(\u001b[0m\u001b[0mself\u001b[0m\u001b[1;33m,\u001b[0m \u001b[0mfunc\u001b[0m\u001b[1;33m,\u001b[0m \u001b[0mcallback\u001b[0m\u001b[1;33m=\u001b[0m\u001b[0mNone\u001b[0m\u001b[1;33m)\u001b[0m\u001b[1;33m:\u001b[0m\u001b[1;33m\u001b[0m\u001b[0m\n\u001b[1;32m    108\u001b[0m         \u001b[1;34m\"\"\"Schedule a func to be run\"\"\"\u001b[0m\u001b[1;33m\u001b[0m\u001b[0m\n\u001b[0;32m--> 109\u001b[0;31m         \u001b[0mresult\u001b[0m \u001b[1;33m=\u001b[0m \u001b[0mImmediateResult\u001b[0m\u001b[1;33m(\u001b[0m\u001b[0mfunc\u001b[0m\u001b[1;33m)\u001b[0m\u001b[1;33m\u001b[0m\u001b[0m\n\u001b[0m\u001b[1;32m    110\u001b[0m         \u001b[1;32mif\u001b[0m \u001b[0mcallback\u001b[0m\u001b[1;33m:\u001b[0m\u001b[1;33m\u001b[0m\u001b[0m\n\u001b[1;32m    111\u001b[0m             \u001b[0mcallback\u001b[0m\u001b[1;33m(\u001b[0m\u001b[0mresult\u001b[0m\u001b[1;33m)\u001b[0m\u001b[1;33m\u001b[0m\u001b[0m\n",
      "\u001b[0;32mC:\\Users\\kmontali\\AppData\\Local\\Continuum\\Anaconda2\\lib\\site-packages\\sklearn\\externals\\joblib\\_parallel_backends.pyc\u001b[0m in \u001b[0;36m__init__\u001b[0;34m(self, batch)\u001b[0m\n\u001b[1;32m    324\u001b[0m         \u001b[1;31m# Don't delay the application, to avoid keeping the input\u001b[0m\u001b[1;33m\u001b[0m\u001b[1;33m\u001b[0m\u001b[0m\n\u001b[1;32m    325\u001b[0m         \u001b[1;31m# arguments in memory\u001b[0m\u001b[1;33m\u001b[0m\u001b[1;33m\u001b[0m\u001b[0m\n\u001b[0;32m--> 326\u001b[0;31m         \u001b[0mself\u001b[0m\u001b[1;33m.\u001b[0m\u001b[0mresults\u001b[0m \u001b[1;33m=\u001b[0m \u001b[0mbatch\u001b[0m\u001b[1;33m(\u001b[0m\u001b[1;33m)\u001b[0m\u001b[1;33m\u001b[0m\u001b[0m\n\u001b[0m\u001b[1;32m    327\u001b[0m \u001b[1;33m\u001b[0m\u001b[0m\n\u001b[1;32m    328\u001b[0m     \u001b[1;32mdef\u001b[0m \u001b[0mget\u001b[0m\u001b[1;33m(\u001b[0m\u001b[0mself\u001b[0m\u001b[1;33m)\u001b[0m\u001b[1;33m:\u001b[0m\u001b[1;33m\u001b[0m\u001b[0m\n",
      "\u001b[0;32mC:\\Users\\kmontali\\AppData\\Local\\Continuum\\Anaconda2\\lib\\site-packages\\sklearn\\externals\\joblib\\parallel.pyc\u001b[0m in \u001b[0;36m__call__\u001b[0;34m(self)\u001b[0m\n\u001b[1;32m    129\u001b[0m \u001b[1;33m\u001b[0m\u001b[0m\n\u001b[1;32m    130\u001b[0m     \u001b[1;32mdef\u001b[0m \u001b[0m__call__\u001b[0m\u001b[1;33m(\u001b[0m\u001b[0mself\u001b[0m\u001b[1;33m)\u001b[0m\u001b[1;33m:\u001b[0m\u001b[1;33m\u001b[0m\u001b[0m\n\u001b[0;32m--> 131\u001b[0;31m         \u001b[1;32mreturn\u001b[0m \u001b[1;33m[\u001b[0m\u001b[0mfunc\u001b[0m\u001b[1;33m(\u001b[0m\u001b[1;33m*\u001b[0m\u001b[0margs\u001b[0m\u001b[1;33m,\u001b[0m \u001b[1;33m**\u001b[0m\u001b[0mkwargs\u001b[0m\u001b[1;33m)\u001b[0m \u001b[1;32mfor\u001b[0m \u001b[0mfunc\u001b[0m\u001b[1;33m,\u001b[0m \u001b[0margs\u001b[0m\u001b[1;33m,\u001b[0m \u001b[0mkwargs\u001b[0m \u001b[1;32min\u001b[0m \u001b[0mself\u001b[0m\u001b[1;33m.\u001b[0m\u001b[0mitems\u001b[0m\u001b[1;33m]\u001b[0m\u001b[1;33m\u001b[0m\u001b[0m\n\u001b[0m\u001b[1;32m    132\u001b[0m \u001b[1;33m\u001b[0m\u001b[0m\n\u001b[1;32m    133\u001b[0m     \u001b[1;32mdef\u001b[0m \u001b[0m__len__\u001b[0m\u001b[1;33m(\u001b[0m\u001b[0mself\u001b[0m\u001b[1;33m)\u001b[0m\u001b[1;33m:\u001b[0m\u001b[1;33m\u001b[0m\u001b[0m\n",
      "\u001b[0;32mC:\\Users\\kmontali\\AppData\\Local\\Continuum\\Anaconda2\\lib\\site-packages\\sklearn\\model_selection\\_validation.pyc\u001b[0m in \u001b[0;36m_fit_and_score\u001b[0;34m(estimator, X, y, scorer, train, test, verbose, parameters, fit_params, return_train_score, return_parameters, return_n_test_samples, return_times, error_score)\u001b[0m\n\u001b[1;32m    236\u001b[0m             \u001b[0mestimator\u001b[0m\u001b[1;33m.\u001b[0m\u001b[0mfit\u001b[0m\u001b[1;33m(\u001b[0m\u001b[0mX_train\u001b[0m\u001b[1;33m,\u001b[0m \u001b[1;33m**\u001b[0m\u001b[0mfit_params\u001b[0m\u001b[1;33m)\u001b[0m\u001b[1;33m\u001b[0m\u001b[0m\n\u001b[1;32m    237\u001b[0m         \u001b[1;32melse\u001b[0m\u001b[1;33m:\u001b[0m\u001b[1;33m\u001b[0m\u001b[0m\n\u001b[0;32m--> 238\u001b[0;31m             \u001b[0mestimator\u001b[0m\u001b[1;33m.\u001b[0m\u001b[0mfit\u001b[0m\u001b[1;33m(\u001b[0m\u001b[0mX_train\u001b[0m\u001b[1;33m,\u001b[0m \u001b[0my_train\u001b[0m\u001b[1;33m,\u001b[0m \u001b[1;33m**\u001b[0m\u001b[0mfit_params\u001b[0m\u001b[1;33m)\u001b[0m\u001b[1;33m\u001b[0m\u001b[0m\n\u001b[0m\u001b[1;32m    239\u001b[0m \u001b[1;33m\u001b[0m\u001b[0m\n\u001b[1;32m    240\u001b[0m     \u001b[1;32mexcept\u001b[0m \u001b[0mException\u001b[0m \u001b[1;32mas\u001b[0m \u001b[0me\u001b[0m\u001b[1;33m:\u001b[0m\u001b[1;33m\u001b[0m\u001b[0m\n",
      "\u001b[0;32mC:\\Users\\kmontali\\AppData\\Local\\Continuum\\Anaconda2\\lib\\site-packages\\sklearn\\ensemble\\gradient_boosting.pyc\u001b[0m in \u001b[0;36mfit\u001b[0;34m(self, X, y, sample_weight, monitor)\u001b[0m\n\u001b[1;32m   1026\u001b[0m         \u001b[1;31m# fit the boosting stages\u001b[0m\u001b[1;33m\u001b[0m\u001b[1;33m\u001b[0m\u001b[0m\n\u001b[1;32m   1027\u001b[0m         n_stages = self._fit_stages(X, y, y_pred, sample_weight, random_state,\n\u001b[0;32m-> 1028\u001b[0;31m                                     begin_at_stage, monitor, X_idx_sorted)\n\u001b[0m\u001b[1;32m   1029\u001b[0m         \u001b[1;31m# change shape of arrays after fit (early-stopping or additional ests)\u001b[0m\u001b[1;33m\u001b[0m\u001b[1;33m\u001b[0m\u001b[0m\n\u001b[1;32m   1030\u001b[0m         \u001b[1;32mif\u001b[0m \u001b[0mn_stages\u001b[0m \u001b[1;33m!=\u001b[0m \u001b[0mself\u001b[0m\u001b[1;33m.\u001b[0m\u001b[0mestimators_\u001b[0m\u001b[1;33m.\u001b[0m\u001b[0mshape\u001b[0m\u001b[1;33m[\u001b[0m\u001b[1;36m0\u001b[0m\u001b[1;33m]\u001b[0m\u001b[1;33m:\u001b[0m\u001b[1;33m\u001b[0m\u001b[0m\n",
      "\u001b[0;32mC:\\Users\\kmontali\\AppData\\Local\\Continuum\\Anaconda2\\lib\\site-packages\\sklearn\\ensemble\\gradient_boosting.pyc\u001b[0m in \u001b[0;36m_fit_stages\u001b[0;34m(self, X, y, y_pred, sample_weight, random_state, begin_at_stage, monitor, X_idx_sorted)\u001b[0m\n\u001b[1;32m   1081\u001b[0m             y_pred = self._fit_stage(i, X, y, y_pred, sample_weight,\n\u001b[1;32m   1082\u001b[0m                                      \u001b[0msample_mask\u001b[0m\u001b[1;33m,\u001b[0m \u001b[0mrandom_state\u001b[0m\u001b[1;33m,\u001b[0m \u001b[0mX_idx_sorted\u001b[0m\u001b[1;33m,\u001b[0m\u001b[1;33m\u001b[0m\u001b[0m\n\u001b[0;32m-> 1083\u001b[0;31m                                      X_csc, X_csr)\n\u001b[0m\u001b[1;32m   1084\u001b[0m \u001b[1;33m\u001b[0m\u001b[0m\n\u001b[1;32m   1085\u001b[0m             \u001b[1;31m# track deviance (= loss)\u001b[0m\u001b[1;33m\u001b[0m\u001b[1;33m\u001b[0m\u001b[0m\n",
      "\u001b[0;32mC:\\Users\\kmontali\\AppData\\Local\\Continuum\\Anaconda2\\lib\\site-packages\\sklearn\\ensemble\\gradient_boosting.pyc\u001b[0m in \u001b[0;36m_fit_stage\u001b[0;34m(self, i, X, y, y_pred, sample_weight, sample_mask, random_state, X_idx_sorted, X_csc, X_csr)\u001b[0m\n\u001b[1;32m    785\u001b[0m             \u001b[1;32melse\u001b[0m\u001b[1;33m:\u001b[0m\u001b[1;33m\u001b[0m\u001b[0m\n\u001b[1;32m    786\u001b[0m                 tree.fit(X, residual, sample_weight=sample_weight,\n\u001b[0;32m--> 787\u001b[0;31m                          check_input=False, X_idx_sorted=X_idx_sorted)\n\u001b[0m\u001b[1;32m    788\u001b[0m \u001b[1;33m\u001b[0m\u001b[0m\n\u001b[1;32m    789\u001b[0m             \u001b[1;31m# update tree leaves\u001b[0m\u001b[1;33m\u001b[0m\u001b[1;33m\u001b[0m\u001b[0m\n",
      "\u001b[0;32mC:\\Users\\kmontali\\AppData\\Local\\Continuum\\Anaconda2\\lib\\site-packages\\sklearn\\tree\\tree.pyc\u001b[0m in \u001b[0;36mfit\u001b[0;34m(self, X, y, sample_weight, check_input, X_idx_sorted)\u001b[0m\n\u001b[1;32m   1027\u001b[0m             \u001b[0msample_weight\u001b[0m\u001b[1;33m=\u001b[0m\u001b[0msample_weight\u001b[0m\u001b[1;33m,\u001b[0m\u001b[1;33m\u001b[0m\u001b[0m\n\u001b[1;32m   1028\u001b[0m             \u001b[0mcheck_input\u001b[0m\u001b[1;33m=\u001b[0m\u001b[0mcheck_input\u001b[0m\u001b[1;33m,\u001b[0m\u001b[1;33m\u001b[0m\u001b[0m\n\u001b[0;32m-> 1029\u001b[0;31m             X_idx_sorted=X_idx_sorted)\n\u001b[0m\u001b[1;32m   1030\u001b[0m         \u001b[1;32mreturn\u001b[0m \u001b[0mself\u001b[0m\u001b[1;33m\u001b[0m\u001b[0m\n\u001b[1;32m   1031\u001b[0m \u001b[1;33m\u001b[0m\u001b[0m\n",
      "\u001b[0;32mC:\\Users\\kmontali\\AppData\\Local\\Continuum\\Anaconda2\\lib\\site-packages\\sklearn\\tree\\tree.pyc\u001b[0m in \u001b[0;36mfit\u001b[0;34m(self, X, y, sample_weight, check_input, X_idx_sorted)\u001b[0m\n\u001b[1;32m    348\u001b[0m                                            self.min_impurity_split)\n\u001b[1;32m    349\u001b[0m \u001b[1;33m\u001b[0m\u001b[0m\n\u001b[0;32m--> 350\u001b[0;31m         \u001b[0mbuilder\u001b[0m\u001b[1;33m.\u001b[0m\u001b[0mbuild\u001b[0m\u001b[1;33m(\u001b[0m\u001b[0mself\u001b[0m\u001b[1;33m.\u001b[0m\u001b[0mtree_\u001b[0m\u001b[1;33m,\u001b[0m \u001b[0mX\u001b[0m\u001b[1;33m,\u001b[0m \u001b[0my\u001b[0m\u001b[1;33m,\u001b[0m \u001b[0msample_weight\u001b[0m\u001b[1;33m,\u001b[0m \u001b[0mX_idx_sorted\u001b[0m\u001b[1;33m)\u001b[0m\u001b[1;33m\u001b[0m\u001b[0m\n\u001b[0m\u001b[1;32m    351\u001b[0m \u001b[1;33m\u001b[0m\u001b[0m\n\u001b[1;32m    352\u001b[0m         \u001b[1;32mif\u001b[0m \u001b[0mself\u001b[0m\u001b[1;33m.\u001b[0m\u001b[0mn_outputs_\u001b[0m \u001b[1;33m==\u001b[0m \u001b[1;36m1\u001b[0m\u001b[1;33m:\u001b[0m\u001b[1;33m\u001b[0m\u001b[0m\n",
      "\u001b[0;31mKeyboardInterrupt\u001b[0m: "
     ]
    }
   ],
   "source": [
    "t0 = time.time()\n",
    "param_test = {\"n_estimators\": [100,200,300,400, 600, 700, 800],\\\n",
    "        \"max_depth\": [3,4,5],\\\n",
    "        \"max_features\": [0.1,0.2,0.3,0.4,0.5],\\\n",
    "        \"min_samples_leaf\": [5, 10, 20, 25, 30]\n",
    "        } \n",
    "        \n",
    "n_iter_search = 40\n",
    "model = GradientBoostingRegressor()\n",
    "    \n",
    "random_search = RandomizedSearchCV(\\\n",
    "        model,param_distributions=param_test,\\\n",
    "        n_iter=n_iter_search,cv=3)\n",
    "random_search.fit(X_train2, y_train)      \n",
    "\n",
    "bestModel = random_search.best_estimator_\n",
    "print(random_search.best_params_)\n",
    "bestModel.fit(X_train, y_train) \n",
    "print(\"score\", bestModel.score(X_test2, y_test))\n",
    "\n",
    "t1 = time.time()\n",
    "total = (t1-t0)/60\n",
    "print('Running time: ', total, 'min')"
   ]
  },
  {
   "cell_type": "code",
   "execution_count": null,
   "metadata": {
    "collapsed": true
   },
   "outputs": [],
   "source": [
    "### interruption because to llong to run "
   ]
  },
  {
   "cell_type": "markdown",
   "metadata": {
    "collapsed": true
   },
   "source": [
    "## apply transfo to our unlabelled data set and predict height "
   ]
  },
  {
   "cell_type": "code",
   "execution_count": 72,
   "metadata": {
    "collapsed": true
   },
   "outputs": [],
   "source": [
    "def transform_df(df): \n",
    "    df.drop(cols_to_rm, axis =1, inplace = True)\n",
    "    # convert geo_point_2D to lat / long \n",
    "    df['lat'],  df['long']= df['geo_point_2d'].map(lambda x: float(x.split(',', 1 )[0])), \\\n",
    "                            df['geo_point_2d'].map(lambda x: float(x.split(',', 1 )[1]))\n",
    "    df.drop('geo_point_2d', axis= 1, inplace = True)\n",
    "    # convert date \n",
    "    df['DATEPLANTATION'] = df['DATEPLANTATION'].map(lambda x: x if x > '1677' else np.nan) \n",
    "    ## NB: replace dates prior to 1677 as it is the min time boudery (pandas cannot convert to date values below this year)\n",
    "    df['DATEPLANTATION'] = pd.to_datetime(df['DATEPLANTATION'], yearfirst = True)\n",
    "\n",
    "    # feature engineering using date plantation \n",
    "\n",
    "    # compute age of tree\n",
    "    df['age_tree'] = 2017 - df['DATEPLANTATION'].map(lambda x: x.year)\n",
    "\n",
    "    df['month'] = df['DATEPLANTATION'].map(lambda x: str(x.month)) # compute month which we convert to string in order to \n",
    "    # dummify it later \n",
    "\n",
    "    # drop date \n",
    "    df.drop('DATEPLANTATION', axis = 1, inplace = True)\n",
    "\n",
    "    # for the string variables: perform a bit of text processing\n",
    "    for i in categorical: \n",
    "        # strip and put to lower case \n",
    "        df[i] = df[i].apply(lambda x: str(x).strip().lower())\n",
    "        # decode with latin 1 -> often does the trick with French character when utf-8 does not work \n",
    "        df[i] = df[i].apply(lambda x: x.decode('latin-1'))\n",
    "        # remove accent \n",
    "        df[i] = df[i].apply(lambda x: remove_accents(x))\n",
    "\n",
    "    df.drop(['GENRE', 'ESPECE'], axis = 1, inplace = True)\n",
    "    cols_to_dummy = ['DOMANIALITE', 'ARRONDISSEMENT', 'STADEDEVELOPPEMENT', 'PEPINIERE', 'LIBELLEFRANCAIS', 'month']\n",
    "\n",
    "    for i in cols_to_dummy: \n",
    "        dummies = pd.get_dummies(df[i], prefix=i, prefix_sep='_', dummy_na=False, columns=None, sparse=False, drop_first=True)\n",
    "        df.drop([i], axis = 1, inplace = True)\n",
    "        df = pd.concat([dummies, df], axis= 1)\n",
    "\n",
    "    df = df.drop('HAUTEUR (m)', axis =1) \n",
    "    imp = Imputer(missing_values='NaN', strategy='mean', axis=0)\n",
    "    imp.fit(df)\n",
    "    X = imp.transform(df)\n",
    "    X = X[:,top50]\n",
    "    return X"
   ]
  },
  {
   "cell_type": "code",
   "execution_count": 81,
   "metadata": {
    "collapsed": true
   },
   "outputs": [],
   "source": [
    "df = pd.read_csv(path, sep = ';')\n",
    "index_0 = df[df['HAUTEUR (m)']==0].index\n",
    "df0 = df[df['HAUTEUR (m)']==0]"
   ]
  },
  {
   "cell_type": "code",
   "execution_count": 82,
   "metadata": {
    "collapsed": false
   },
   "outputs": [],
   "source": [
    "X = transform_df(df)"
   ]
  },
  {
   "cell_type": "code",
   "execution_count": 83,
   "metadata": {
    "collapsed": true
   },
   "outputs": [],
   "source": [
    "X0 = X[index_0,:]"
   ]
  },
  {
   "cell_type": "code",
   "execution_count": 84,
   "metadata": {
    "collapsed": false
   },
   "outputs": [
    {
     "name": "stderr",
     "output_type": "stream",
     "text": [
      "C:\\Users\\kmontali\\AppData\\Local\\Continuum\\Anaconda2\\lib\\site-packages\\ipykernel\\__main__.py:2: SettingWithCopyWarning: \n",
      "A value is trying to be set on a copy of a slice from a DataFrame.\n",
      "Try using .loc[row_indexer,col_indexer] = value instead\n",
      "\n",
      "See the caveats in the documentation: http://pandas.pydata.org/pandas-docs/stable/indexing.html#indexing-view-versus-copy\n",
      "  from ipykernel import kernelapp as app\n"
     ]
    }
   ],
   "source": [
    "y_pred = clf.predict(X0)\n",
    "df0['HAUTEUR (m)'] = y_pred "
   ]
  },
  {
   "cell_type": "code",
   "execution_count": 85,
   "metadata": {
    "collapsed": true
   },
   "outputs": [],
   "source": [
    "# save data set \n",
    "df0.to_csv('arbres_prediction.csv', index = False)"
   ]
  },
  {
   "cell_type": "code",
   "execution_count": null,
   "metadata": {
    "collapsed": true
   },
   "outputs": [],
   "source": []
  },
  {
   "cell_type": "code",
   "execution_count": null,
   "metadata": {
    "collapsed": true
   },
   "outputs": [],
   "source": []
  }
 ],
 "metadata": {
  "kernelspec": {
   "display_name": "Python 2",
   "language": "python",
   "name": "python2"
  },
  "language_info": {
   "codemirror_mode": {
    "name": "ipython",
    "version": 2
   },
   "file_extension": ".py",
   "mimetype": "text/x-python",
   "name": "python",
   "nbconvert_exporter": "python",
   "pygments_lexer": "ipython2",
   "version": "2.7.13"
  }
 },
 "nbformat": 4,
 "nbformat_minor": 2
}
